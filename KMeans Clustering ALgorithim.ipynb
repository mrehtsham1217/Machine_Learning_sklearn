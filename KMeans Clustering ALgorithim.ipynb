{
 "cells": [
  {
   "cell_type": "markdown",
   "id": "ab7a740b",
   "metadata": {},
   "source": [
    "# Kmeans Clustering Algorithim"
   ]
  },
  {
   "cell_type": "code",
   "execution_count": null,
   "id": "139bf4dc",
   "metadata": {},
   "outputs": [],
   "source": [
    "\"\"\"\n",
    "kmeans clustering is used for unsupervised learning in which data is divided according to properties in each cluster\n",
    "\"\"\"\n",
    "import pandas as pd\n",
    "import matplotlib.pyplot as plt"
   ]
  },
  {
   "cell_type": "code",
   "execution_count": null,
   "id": "83d3f861",
   "metadata": {},
   "outputs": [],
   "source": [
    "file = pd.read_csv(\"data/income 2.csv\")\n",
    "file.head()"
   ]
  },
  {
   "cell_type": "code",
   "execution_count": null,
   "id": "79ea5f93",
   "metadata": {},
   "outputs": [],
   "source": [
    "#We will not use or drop the name column because ML Algorithim doesnt works on strings\n",
    "#Now we have to make scatter plot to se thee data\n",
    "plt.scatter(file['Age'],file['Income($)'])\n",
    "plt.show()"
   ]
  },
  {
   "cell_type": "code",
   "execution_count": null,
   "id": "6edc7a5e",
   "metadata": {},
   "outputs": [],
   "source": [
    "import warnings\n",
    "warnings.filterwarnings(\"ignore\")\n",
    "#Importing the kmeans clustering\n",
    "from sklearn.cluster import KMeans\n",
    "km = KMeans(n_clusters=3)"
   ]
  },
  {
   "cell_type": "code",
   "execution_count": null,
   "id": "5264ce8e",
   "metadata": {},
   "outputs": [],
   "source": [
    "y_predict = km.fit_predict(file[['Age','Income($)']])\n",
    "y_predict"
   ]
  },
  {
   "cell_type": "code",
   "execution_count": null,
   "id": "3e90d64f",
   "metadata": {},
   "outputs": [],
   "source": [
    "file['Clusters'] = y_predict\n",
    "file.head()"
   ]
  },
  {
   "cell_type": "code",
   "execution_count": null,
   "id": "1e5bf3e2",
   "metadata": {},
   "outputs": [],
   "source": [
    "#NOw make a scatter plot again and make three variables accoring to cluster\n",
    "file0 = file[file.Clusters==0]\n",
    "file1 = file[file.Clusters==1]\n",
    "file2 = file[file.Clusters==2]\n",
    "\n",
    "plt.scatter(file0.Age,file0['Income($)'],color='green')\n",
    "plt.scatter(file1.Age,file1['Income($)'],color='red')\n",
    "plt.scatter(file2.Age,file2['Income($)'],color='blue')\n",
    "plt.xlabel(\"Age\")\n",
    "plt.ylabel(\"Income\")\n",
    "plt.show()\n",
    "\n"
   ]
  },
  {
   "cell_type": "code",
   "execution_count": null,
   "id": "52e86587",
   "metadata": {},
   "outputs": [],
   "source": [
    "\"\"\"\n",
    "The reason for not proper clustering is we have not used scaling because our y_axis start from where and x_axis has\n",
    "minor difference so we need to scale the age and income because we need to make the data comfortable for training\n",
    "#z = (x - u) / s\n",
    "z = new value\n",
    "x = orignal value\n",
    "u is mean\n",
    "s is the standard deviations\n",
    "formula for scaling\n",
    "\"\"\""
   ]
  },
  {
   "cell_type": "code",
   "execution_count": null,
   "id": "c6b1d7d1",
   "metadata": {},
   "outputs": [],
   "source": [
    "from sklearn.preprocessing import MinMaxScaler\n",
    "scalar = MinMaxScaler()\n",
    "scalar.fit(file[['Income($)']])#we need 2D Array for scaling\n",
    "file['Income($)'] = scalar.transform(file[['Income($)']])\n",
    "file.head()"
   ]
  },
  {
   "cell_type": "code",
   "execution_count": null,
   "id": "f7eaedb3",
   "metadata": {},
   "outputs": [],
   "source": [
    "#scaling of age\n",
    "scalar.fit(file[['Age']])\n",
    "file['Age'] = scalar.transform(file[['Age']])\n",
    "file.head()"
   ]
  },
  {
   "cell_type": "code",
   "execution_count": null,
   "id": "6503dcab",
   "metadata": {},
   "outputs": [],
   "source": [
    "y_predict = km.fit_predict(file[['Age','Income($)']])\n",
    "y_predict"
   ]
  },
  {
   "cell_type": "code",
   "execution_count": null,
   "id": "2bceb360",
   "metadata": {},
   "outputs": [],
   "source": [
    "# now push this column in the sheet\n",
    "file['Cluster_Scaling'] = y_predict\n",
    "file.head()\n"
   ]
  },
  {
   "cell_type": "code",
   "execution_count": null,
   "id": "07337792",
   "metadata": {},
   "outputs": [],
   "source": [
    "km.cluster_centers_"
   ]
  },
  {
   "cell_type": "code",
   "execution_count": null,
   "id": "dcdb7740",
   "metadata": {},
   "outputs": [],
   "source": [
    "#NOw make a scatter plot again and make three variables accoring to cluster\n",
    "file0 = file[file.Cluster_Scaling==0]\n",
    "file1 = file[file.Cluster_Scaling==1]\n",
    "file2 = file[file.Cluster_Scaling==2]\n",
    "\n",
    "plt.scatter(file0.Age,file0['Income($)'],color='green',label='Income')\n",
    "plt.scatter(file1.Age,file1['Income($)'],color='red',label='Income')\n",
    "plt.scatter(file2.Age,file2['Income($)'],color='blue',label='Income')\n",
    "plt.scatter(km.cluster_centers_[:,0],km.cluster_centers_[:,1],color='purple',marker='+',label='Centeroid')\n",
    "plt.xlabel(\"Age\")\n",
    "plt.ylabel(\"Income\")\n",
    "plt.legend()\n",
    "plt.show()\n",
    "\n"
   ]
  },
  {
   "cell_type": "code",
   "execution_count": null,
   "id": "f9306616",
   "metadata": {},
   "outputs": [],
   "source": [
    "SSE = []\n",
    "k_range = range(1,10)\n",
    "for i in k_range:\n",
    "    km = KMeans(n_clusters=i)\n",
    "    km.fit(file[['Age','Income($)']])\n",
    "    SSE.append(km.inertia_)\n",
    "SSE"
   ]
  },
  {
   "cell_type": "code",
   "execution_count": null,
   "id": "3238024b",
   "metadata": {},
   "outputs": [],
   "source": [
    "plt.plot(k_range,SSE)\n",
    "plt.show()"
   ]
  }
 ],
 "metadata": {
  "kernelspec": {
   "display_name": "Python 3 (ipykernel)",
   "language": "python",
   "name": "python3"
  },
  "language_info": {
   "codemirror_mode": {
    "name": "ipython",
    "version": 3
   },
   "file_extension": ".py",
   "mimetype": "text/x-python",
   "name": "python",
   "nbconvert_exporter": "python",
   "pygments_lexer": "ipython3",
   "version": "3.10.9"
  }
 },
 "nbformat": 4,
 "nbformat_minor": 5
}
