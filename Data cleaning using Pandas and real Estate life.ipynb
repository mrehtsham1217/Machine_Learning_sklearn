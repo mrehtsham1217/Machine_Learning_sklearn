{
 "cells": [
  {
   "cell_type": "markdown",
   "id": "620c806b",
   "metadata": {},
   "source": [
    "# Data cleaning using Pandas and real Estate life"
   ]
  },
  {
   "cell_type": "code",
   "execution_count": 1,
   "id": "da90c3cf",
   "metadata": {},
   "outputs": [],
   "source": [
    "import pandas as pd"
   ]
  },
  {
   "cell_type": "code",
   "execution_count": 3,
   "id": "667dc4ee",
   "metadata": {},
   "outputs": [
    {
     "data": {
      "text/html": [
       "<div>\n",
       "<style scoped>\n",
       "    .dataframe tbody tr th:only-of-type {\n",
       "        vertical-align: middle;\n",
       "    }\n",
       "\n",
       "    .dataframe tbody tr th {\n",
       "        vertical-align: top;\n",
       "    }\n",
       "\n",
       "    .dataframe thead th {\n",
       "        text-align: right;\n",
       "    }\n",
       "</style>\n",
       "<table border=\"1\" class=\"dataframe\">\n",
       "  <thead>\n",
       "    <tr style=\"text-align: right;\">\n",
       "      <th></th>\n",
       "      <th>area_type</th>\n",
       "      <th>availability</th>\n",
       "      <th>location</th>\n",
       "      <th>size</th>\n",
       "      <th>society</th>\n",
       "      <th>total_sqft</th>\n",
       "      <th>bath</th>\n",
       "      <th>balcony</th>\n",
       "      <th>price</th>\n",
       "    </tr>\n",
       "  </thead>\n",
       "  <tbody>\n",
       "    <tr>\n",
       "      <th>13315</th>\n",
       "      <td>Built-up  Area</td>\n",
       "      <td>Ready To Move</td>\n",
       "      <td>Whitefield</td>\n",
       "      <td>5 Bedroom</td>\n",
       "      <td>ArsiaEx</td>\n",
       "      <td>3453</td>\n",
       "      <td>4.0</td>\n",
       "      <td>0.0</td>\n",
       "      <td>231.0</td>\n",
       "    </tr>\n",
       "    <tr>\n",
       "      <th>13316</th>\n",
       "      <td>Super built-up  Area</td>\n",
       "      <td>Ready To Move</td>\n",
       "      <td>Richards Town</td>\n",
       "      <td>4 BHK</td>\n",
       "      <td>NaN</td>\n",
       "      <td>3600</td>\n",
       "      <td>5.0</td>\n",
       "      <td>NaN</td>\n",
       "      <td>400.0</td>\n",
       "    </tr>\n",
       "    <tr>\n",
       "      <th>13317</th>\n",
       "      <td>Built-up  Area</td>\n",
       "      <td>Ready To Move</td>\n",
       "      <td>Raja Rajeshwari Nagar</td>\n",
       "      <td>2 BHK</td>\n",
       "      <td>Mahla T</td>\n",
       "      <td>1141</td>\n",
       "      <td>2.0</td>\n",
       "      <td>1.0</td>\n",
       "      <td>60.0</td>\n",
       "    </tr>\n",
       "    <tr>\n",
       "      <th>13318</th>\n",
       "      <td>Super built-up  Area</td>\n",
       "      <td>18-Jun</td>\n",
       "      <td>Padmanabhanagar</td>\n",
       "      <td>4 BHK</td>\n",
       "      <td>SollyCl</td>\n",
       "      <td>4689</td>\n",
       "      <td>4.0</td>\n",
       "      <td>1.0</td>\n",
       "      <td>488.0</td>\n",
       "    </tr>\n",
       "    <tr>\n",
       "      <th>13319</th>\n",
       "      <td>Super built-up  Area</td>\n",
       "      <td>Ready To Move</td>\n",
       "      <td>Doddathoguru</td>\n",
       "      <td>1 BHK</td>\n",
       "      <td>NaN</td>\n",
       "      <td>550</td>\n",
       "      <td>1.0</td>\n",
       "      <td>1.0</td>\n",
       "      <td>17.0</td>\n",
       "    </tr>\n",
       "  </tbody>\n",
       "</table>\n",
       "</div>"
      ],
      "text/plain": [
       "                  area_type   availability               location       size  \\\n",
       "13315        Built-up  Area  Ready To Move             Whitefield  5 Bedroom   \n",
       "13316  Super built-up  Area  Ready To Move          Richards Town      4 BHK   \n",
       "13317        Built-up  Area  Ready To Move  Raja Rajeshwari Nagar      2 BHK   \n",
       "13318  Super built-up  Area         18-Jun        Padmanabhanagar      4 BHK   \n",
       "13319  Super built-up  Area  Ready To Move           Doddathoguru      1 BHK   \n",
       "\n",
       "       society total_sqft  bath  balcony  price  \n",
       "13315  ArsiaEx       3453   4.0      0.0  231.0  \n",
       "13316      NaN       3600   5.0      NaN  400.0  \n",
       "13317  Mahla T       1141   2.0      1.0   60.0  \n",
       "13318  SollyCl       4689   4.0      1.0  488.0  \n",
       "13319      NaN        550   1.0      1.0   17.0  "
      ]
     },
     "execution_count": 3,
     "metadata": {},
     "output_type": "execute_result"
    }
   ],
   "source": [
    "sheet = pd.read_csv(\"data/Bengaluru_House_Data.csv\")\n",
    "sheet.head()"
   ]
  },
  {
   "cell_type": "code",
   "execution_count": 4,
   "id": "45842dd0",
   "metadata": {},
   "outputs": [
    {
     "data": {
      "text/plain": [
       "(13320, 9)"
      ]
     },
     "execution_count": 4,
     "metadata": {},
     "output_type": "execute_result"
    }
   ],
   "source": [
    "#Step1 ---check the shape\n",
    "sheet.shape"
   ]
  },
  {
   "cell_type": "code",
   "execution_count": 11,
   "id": "30e73748",
   "metadata": {},
   "outputs": [
    {
     "data": {
      "text/plain": [
       "area_type\n",
       "Built-up  Area          2418\n",
       "Carpet  Area              87\n",
       "Plot  Area              2025\n",
       "Super built-up  Area    8790\n",
       "Name: area_type, dtype: int64"
      ]
     },
     "execution_count": 11,
     "metadata": {},
     "output_type": "execute_result"
    }
   ],
   "source": [
    "#group by columns with respect to a specific column\n",
    "sheet.groupby('area_type')['area_type'].agg('count')"
   ]
  },
  {
   "cell_type": "code",
   "execution_count": 7,
   "id": "e1378036",
   "metadata": {},
   "outputs": [
    {
     "data": {
      "text/html": [
       "<div>\n",
       "<style scoped>\n",
       "    .dataframe tbody tr th:only-of-type {\n",
       "        vertical-align: middle;\n",
       "    }\n",
       "\n",
       "    .dataframe tbody tr th {\n",
       "        vertical-align: top;\n",
       "    }\n",
       "\n",
       "    .dataframe thead th {\n",
       "        text-align: right;\n",
       "    }\n",
       "</style>\n",
       "<table border=\"1\" class=\"dataframe\">\n",
       "  <thead>\n",
       "    <tr style=\"text-align: right;\">\n",
       "      <th></th>\n",
       "      <th>area_type</th>\n",
       "      <th>size</th>\n",
       "      <th>total_sqft</th>\n",
       "      <th>bath</th>\n",
       "      <th>price</th>\n",
       "    </tr>\n",
       "  </thead>\n",
       "  <tbody>\n",
       "    <tr>\n",
       "      <th>0</th>\n",
       "      <td>Super built-up  Area</td>\n",
       "      <td>2 BHK</td>\n",
       "      <td>1056</td>\n",
       "      <td>2.0</td>\n",
       "      <td>39.07</td>\n",
       "    </tr>\n",
       "    <tr>\n",
       "      <th>1</th>\n",
       "      <td>Plot  Area</td>\n",
       "      <td>4 Bedroom</td>\n",
       "      <td>2600</td>\n",
       "      <td>5.0</td>\n",
       "      <td>120.00</td>\n",
       "    </tr>\n",
       "    <tr>\n",
       "      <th>2</th>\n",
       "      <td>Built-up  Area</td>\n",
       "      <td>3 BHK</td>\n",
       "      <td>1440</td>\n",
       "      <td>2.0</td>\n",
       "      <td>62.00</td>\n",
       "    </tr>\n",
       "    <tr>\n",
       "      <th>3</th>\n",
       "      <td>Super built-up  Area</td>\n",
       "      <td>3 BHK</td>\n",
       "      <td>1521</td>\n",
       "      <td>3.0</td>\n",
       "      <td>95.00</td>\n",
       "    </tr>\n",
       "    <tr>\n",
       "      <th>4</th>\n",
       "      <td>Super built-up  Area</td>\n",
       "      <td>2 BHK</td>\n",
       "      <td>1200</td>\n",
       "      <td>2.0</td>\n",
       "      <td>51.00</td>\n",
       "    </tr>\n",
       "  </tbody>\n",
       "</table>\n",
       "</div>"
      ],
      "text/plain": [
       "              area_type       size total_sqft  bath   price\n",
       "0  Super built-up  Area      2 BHK       1056   2.0   39.07\n",
       "1            Plot  Area  4 Bedroom       2600   5.0  120.00\n",
       "2        Built-up  Area      3 BHK       1440   2.0   62.00\n",
       "3  Super built-up  Area      3 BHK       1521   3.0   95.00\n",
       "4  Super built-up  Area      2 BHK       1200   2.0   51.00"
      ]
     },
     "execution_count": 7,
     "metadata": {},
     "output_type": "execute_result"
    }
   ],
   "source": [
    "# step--02--->remove extra columns which is not needed\n",
    "sheet2 = sheet.drop(['availability','location','society','balcony'],axis='columns')\n",
    "sheet2.head()"
   ]
  },
  {
   "cell_type": "code",
   "execution_count": 77,
   "id": "5d9e9360",
   "metadata": {},
   "outputs": [
    {
     "data": {
      "text/plain": [
       "area_type      0\n",
       "size          16\n",
       "total_sqft     0\n",
       "bath           0\n",
       "price          0\n",
       "dtype: int64"
      ]
     },
     "execution_count": 77,
     "metadata": {},
     "output_type": "execute_result"
    }
   ],
   "source": [
    "#Now we can drop null rows are fill null rows\n",
    "sheet2.isna().sum()"
   ]
  },
  {
   "cell_type": "code",
   "execution_count": 78,
   "id": "278a5a88",
   "metadata": {},
   "outputs": [],
   "source": [
    "sheet2['bath'] = sheet2['bath'].fillna(sheet2['bath']).median()"
   ]
  },
  {
   "cell_type": "code",
   "execution_count": 79,
   "id": "c653b97c",
   "metadata": {},
   "outputs": [
    {
     "data": {
      "text/html": [
       "<div>\n",
       "<style scoped>\n",
       "    .dataframe tbody tr th:only-of-type {\n",
       "        vertical-align: middle;\n",
       "    }\n",
       "\n",
       "    .dataframe tbody tr th {\n",
       "        vertical-align: top;\n",
       "    }\n",
       "\n",
       "    .dataframe thead th {\n",
       "        text-align: right;\n",
       "    }\n",
       "</style>\n",
       "<table border=\"1\" class=\"dataframe\">\n",
       "  <thead>\n",
       "    <tr style=\"text-align: right;\">\n",
       "      <th></th>\n",
       "      <th>area_type</th>\n",
       "      <th>size</th>\n",
       "      <th>total_sqft</th>\n",
       "      <th>bath</th>\n",
       "      <th>price</th>\n",
       "    </tr>\n",
       "  </thead>\n",
       "  <tbody>\n",
       "    <tr>\n",
       "      <th>0</th>\n",
       "      <td>Super built-up  Area</td>\n",
       "      <td>2 BHK</td>\n",
       "      <td>1056</td>\n",
       "      <td>2.0</td>\n",
       "      <td>39.07</td>\n",
       "    </tr>\n",
       "    <tr>\n",
       "      <th>1</th>\n",
       "      <td>Plot  Area</td>\n",
       "      <td>4 Bedroom</td>\n",
       "      <td>2600</td>\n",
       "      <td>2.0</td>\n",
       "      <td>120.00</td>\n",
       "    </tr>\n",
       "    <tr>\n",
       "      <th>2</th>\n",
       "      <td>Built-up  Area</td>\n",
       "      <td>3 BHK</td>\n",
       "      <td>1440</td>\n",
       "      <td>2.0</td>\n",
       "      <td>62.00</td>\n",
       "    </tr>\n",
       "    <tr>\n",
       "      <th>3</th>\n",
       "      <td>Super built-up  Area</td>\n",
       "      <td>3 BHK</td>\n",
       "      <td>1521</td>\n",
       "      <td>2.0</td>\n",
       "      <td>95.00</td>\n",
       "    </tr>\n",
       "    <tr>\n",
       "      <th>4</th>\n",
       "      <td>Super built-up  Area</td>\n",
       "      <td>2 BHK</td>\n",
       "      <td>1200</td>\n",
       "      <td>2.0</td>\n",
       "      <td>51.00</td>\n",
       "    </tr>\n",
       "  </tbody>\n",
       "</table>\n",
       "</div>"
      ],
      "text/plain": [
       "              area_type       size total_sqft  bath   price\n",
       "0  Super built-up  Area      2 BHK       1056   2.0   39.07\n",
       "1            Plot  Area  4 Bedroom       2600   2.0  120.00\n",
       "2        Built-up  Area      3 BHK       1440   2.0   62.00\n",
       "3  Super built-up  Area      3 BHK       1521   2.0   95.00\n",
       "4  Super built-up  Area      2 BHK       1200   2.0   51.00"
      ]
     },
     "execution_count": 79,
     "metadata": {},
     "output_type": "execute_result"
    }
   ],
   "source": [
    "sheet3 = sheet2.dropna()\n",
    "sheet3.head()"
   ]
  },
  {
   "cell_type": "code",
   "execution_count": 80,
   "id": "70ad5462",
   "metadata": {},
   "outputs": [
    {
     "data": {
      "text/plain": [
       "area_type     0\n",
       "size          0\n",
       "total_sqft    0\n",
       "bath          0\n",
       "price         0\n",
       "dtype: int64"
      ]
     },
     "execution_count": 80,
     "metadata": {},
     "output_type": "execute_result"
    }
   ],
   "source": [
    "sheet3.isna().sum()"
   ]
  },
  {
   "cell_type": "code",
   "execution_count": 81,
   "id": "6ad04871",
   "metadata": {},
   "outputs": [],
   "source": [
    "#Now you can split size into two part numeric part and strinf part\n",
    "sheet3['BHK'] = sheet3['size'].apply(lambda x: int(x.split(' ')[0]))\n",
    "sheet3.head()\n",
    "\n",
    "#You can remove warning by this\n",
    "import warnings\n",
    "warnings.filterwarnings(\"ignore\")"
   ]
  },
  {
   "cell_type": "code",
   "execution_count": 82,
   "id": "e766e12c",
   "metadata": {},
   "outputs": [],
   "source": [
    "#Now come towards the total sqrf columns\n",
    "# first convert this column into float datatype\n",
    "def is_float(value):\n",
    "    try:\n",
    "        float(value)\n",
    "    except:\n",
    "        return False\n",
    "    return True"
   ]
  },
  {
   "cell_type": "code",
   "execution_count": 83,
   "id": "12abc478",
   "metadata": {},
   "outputs": [
    {
     "data": {
      "text/html": [
       "<div>\n",
       "<style scoped>\n",
       "    .dataframe tbody tr th:only-of-type {\n",
       "        vertical-align: middle;\n",
       "    }\n",
       "\n",
       "    .dataframe tbody tr th {\n",
       "        vertical-align: top;\n",
       "    }\n",
       "\n",
       "    .dataframe thead th {\n",
       "        text-align: right;\n",
       "    }\n",
       "</style>\n",
       "<table border=\"1\" class=\"dataframe\">\n",
       "  <thead>\n",
       "    <tr style=\"text-align: right;\">\n",
       "      <th></th>\n",
       "      <th>area_type</th>\n",
       "      <th>size</th>\n",
       "      <th>total_sqft</th>\n",
       "      <th>bath</th>\n",
       "      <th>price</th>\n",
       "      <th>BHK</th>\n",
       "    </tr>\n",
       "  </thead>\n",
       "  <tbody>\n",
       "    <tr>\n",
       "      <th>30</th>\n",
       "      <td>Super built-up  Area</td>\n",
       "      <td>4 BHK</td>\n",
       "      <td>2100 - 2850</td>\n",
       "      <td>2.0</td>\n",
       "      <td>186.000</td>\n",
       "      <td>4</td>\n",
       "    </tr>\n",
       "    <tr>\n",
       "      <th>56</th>\n",
       "      <td>Built-up  Area</td>\n",
       "      <td>4 Bedroom</td>\n",
       "      <td>3010 - 3410</td>\n",
       "      <td>2.0</td>\n",
       "      <td>192.000</td>\n",
       "      <td>4</td>\n",
       "    </tr>\n",
       "    <tr>\n",
       "      <th>81</th>\n",
       "      <td>Built-up  Area</td>\n",
       "      <td>4 Bedroom</td>\n",
       "      <td>2957 - 3450</td>\n",
       "      <td>2.0</td>\n",
       "      <td>224.500</td>\n",
       "      <td>4</td>\n",
       "    </tr>\n",
       "    <tr>\n",
       "      <th>122</th>\n",
       "      <td>Super built-up  Area</td>\n",
       "      <td>4 BHK</td>\n",
       "      <td>3067 - 8156</td>\n",
       "      <td>2.0</td>\n",
       "      <td>477.000</td>\n",
       "      <td>4</td>\n",
       "    </tr>\n",
       "    <tr>\n",
       "      <th>137</th>\n",
       "      <td>Super built-up  Area</td>\n",
       "      <td>2 BHK</td>\n",
       "      <td>1042 - 1105</td>\n",
       "      <td>2.0</td>\n",
       "      <td>54.005</td>\n",
       "      <td>2</td>\n",
       "    </tr>\n",
       "    <tr>\n",
       "      <th>165</th>\n",
       "      <td>Super built-up  Area</td>\n",
       "      <td>2 BHK</td>\n",
       "      <td>1145 - 1340</td>\n",
       "      <td>2.0</td>\n",
       "      <td>43.490</td>\n",
       "      <td>2</td>\n",
       "    </tr>\n",
       "    <tr>\n",
       "      <th>188</th>\n",
       "      <td>Super built-up  Area</td>\n",
       "      <td>2 BHK</td>\n",
       "      <td>1015 - 1540</td>\n",
       "      <td>2.0</td>\n",
       "      <td>56.800</td>\n",
       "      <td>2</td>\n",
       "    </tr>\n",
       "    <tr>\n",
       "      <th>224</th>\n",
       "      <td>Super built-up  Area</td>\n",
       "      <td>3 BHK</td>\n",
       "      <td>1520 - 1740</td>\n",
       "      <td>2.0</td>\n",
       "      <td>74.820</td>\n",
       "      <td>3</td>\n",
       "    </tr>\n",
       "    <tr>\n",
       "      <th>410</th>\n",
       "      <td>Super built-up  Area</td>\n",
       "      <td>1 BHK</td>\n",
       "      <td>34.46Sq. Meter</td>\n",
       "      <td>2.0</td>\n",
       "      <td>18.500</td>\n",
       "      <td>1</td>\n",
       "    </tr>\n",
       "    <tr>\n",
       "      <th>549</th>\n",
       "      <td>Super built-up  Area</td>\n",
       "      <td>2 BHK</td>\n",
       "      <td>1195 - 1440</td>\n",
       "      <td>2.0</td>\n",
       "      <td>63.770</td>\n",
       "      <td>2</td>\n",
       "    </tr>\n",
       "  </tbody>\n",
       "</table>\n",
       "</div>"
      ],
      "text/plain": [
       "                area_type       size      total_sqft  bath    price  BHK\n",
       "30   Super built-up  Area      4 BHK     2100 - 2850   2.0  186.000    4\n",
       "56         Built-up  Area  4 Bedroom     3010 - 3410   2.0  192.000    4\n",
       "81         Built-up  Area  4 Bedroom     2957 - 3450   2.0  224.500    4\n",
       "122  Super built-up  Area      4 BHK     3067 - 8156   2.0  477.000    4\n",
       "137  Super built-up  Area      2 BHK     1042 - 1105   2.0   54.005    2\n",
       "165  Super built-up  Area      2 BHK     1145 - 1340   2.0   43.490    2\n",
       "188  Super built-up  Area      2 BHK     1015 - 1540   2.0   56.800    2\n",
       "224  Super built-up  Area      3 BHK     1520 - 1740   2.0   74.820    3\n",
       "410  Super built-up  Area      1 BHK  34.46Sq. Meter   2.0   18.500    1\n",
       "549  Super built-up  Area      2 BHK     1195 - 1440   2.0   63.770    2"
      ]
     },
     "execution_count": 83,
     "metadata": {},
     "output_type": "execute_result"
    }
   ],
   "source": [
    "sheet3[~sheet3['total_sqft'].apply(is_float)].head(10)"
   ]
  },
  {
   "cell_type": "code",
   "execution_count": 84,
   "id": "1f988ece",
   "metadata": {},
   "outputs": [],
   "source": [
    "#now we'll handle total_sqft values that have range e.g 2400-2600\n",
    "def convertion(value):\n",
    "    token = value.split('-')\n",
    "    if len(token)==2:\n",
    "        return (float(token[0])+float(token[1]))/2\n",
    "    try:\n",
    "        return float(value)\n",
    "    except:\n",
    "        return None"
   ]
  },
  {
   "cell_type": "code",
   "execution_count": 85,
   "id": "9a136563",
   "metadata": {},
   "outputs": [
    {
     "data": {
      "text/plain": [
       "2002.5"
      ]
     },
     "execution_count": 85,
     "metadata": {},
     "output_type": "execute_result"
    }
   ],
   "source": [
    "convertion('2002-2003')"
   ]
  },
  {
   "cell_type": "code",
   "execution_count": 87,
   "id": "57318dfa",
   "metadata": {},
   "outputs": [
    {
     "data": {
      "text/html": [
       "<div>\n",
       "<style scoped>\n",
       "    .dataframe tbody tr th:only-of-type {\n",
       "        vertical-align: middle;\n",
       "    }\n",
       "\n",
       "    .dataframe tbody tr th {\n",
       "        vertical-align: top;\n",
       "    }\n",
       "\n",
       "    .dataframe thead th {\n",
       "        text-align: right;\n",
       "    }\n",
       "</style>\n",
       "<table border=\"1\" class=\"dataframe\">\n",
       "  <thead>\n",
       "    <tr style=\"text-align: right;\">\n",
       "      <th></th>\n",
       "      <th>area_type</th>\n",
       "      <th>size</th>\n",
       "      <th>total_sqft</th>\n",
       "      <th>bath</th>\n",
       "      <th>price</th>\n",
       "      <th>BHK</th>\n",
       "    </tr>\n",
       "  </thead>\n",
       "  <tbody>\n",
       "    <tr>\n",
       "      <th>13315</th>\n",
       "      <td>Built-up  Area</td>\n",
       "      <td>5 Bedroom</td>\n",
       "      <td>3453.0</td>\n",
       "      <td>2.0</td>\n",
       "      <td>231.0</td>\n",
       "      <td>5</td>\n",
       "    </tr>\n",
       "    <tr>\n",
       "      <th>13316</th>\n",
       "      <td>Super built-up  Area</td>\n",
       "      <td>4 BHK</td>\n",
       "      <td>3600.0</td>\n",
       "      <td>2.0</td>\n",
       "      <td>400.0</td>\n",
       "      <td>4</td>\n",
       "    </tr>\n",
       "    <tr>\n",
       "      <th>13317</th>\n",
       "      <td>Built-up  Area</td>\n",
       "      <td>2 BHK</td>\n",
       "      <td>1141.0</td>\n",
       "      <td>2.0</td>\n",
       "      <td>60.0</td>\n",
       "      <td>2</td>\n",
       "    </tr>\n",
       "    <tr>\n",
       "      <th>13318</th>\n",
       "      <td>Super built-up  Area</td>\n",
       "      <td>4 BHK</td>\n",
       "      <td>4689.0</td>\n",
       "      <td>2.0</td>\n",
       "      <td>488.0</td>\n",
       "      <td>4</td>\n",
       "    </tr>\n",
       "    <tr>\n",
       "      <th>13319</th>\n",
       "      <td>Super built-up  Area</td>\n",
       "      <td>1 BHK</td>\n",
       "      <td>550.0</td>\n",
       "      <td>2.0</td>\n",
       "      <td>17.0</td>\n",
       "      <td>1</td>\n",
       "    </tr>\n",
       "  </tbody>\n",
       "</table>\n",
       "</div>"
      ],
      "text/plain": [
       "                  area_type       size  total_sqft  bath  price  BHK\n",
       "13315        Built-up  Area  5 Bedroom      3453.0   2.0  231.0    5\n",
       "13316  Super built-up  Area      4 BHK      3600.0   2.0  400.0    4\n",
       "13317        Built-up  Area      2 BHK      1141.0   2.0   60.0    2\n",
       "13318  Super built-up  Area      4 BHK      4689.0   2.0  488.0    4\n",
       "13319  Super built-up  Area      1 BHK       550.0   2.0   17.0    1"
      ]
     },
     "execution_count": 87,
     "metadata": {},
     "output_type": "execute_result"
    }
   ],
   "source": [
    "sheet4 = sheet3.copy()\n",
    "sheet4['total_sqft'] = sheet4['total_sqft'].apply(convertion)\n",
    "sheet4.tail(5)"
   ]
  },
  {
   "cell_type": "code",
   "execution_count": null,
   "id": "e9a138dd",
   "metadata": {},
   "outputs": [],
   "source": []
  },
  {
   "cell_type": "code",
   "execution_count": null,
   "id": "288155e0",
   "metadata": {},
   "outputs": [],
   "source": []
  }
 ],
 "metadata": {
  "kernelspec": {
   "display_name": "Python 3 (ipykernel)",
   "language": "python",
   "name": "python3"
  },
  "language_info": {
   "codemirror_mode": {
    "name": "ipython",
    "version": 3
   },
   "file_extension": ".py",
   "mimetype": "text/x-python",
   "name": "python",
   "nbconvert_exporter": "python",
   "pygments_lexer": "ipython3",
   "version": "3.10.9"
  }
 },
 "nbformat": 4,
 "nbformat_minor": 5
}
