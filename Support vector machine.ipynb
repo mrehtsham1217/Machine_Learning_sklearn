{
 "cells": [
  {
   "cell_type": "markdown",
   "id": "6bf23d07",
   "metadata": {},
   "source": [
    "# Support vector machine"
   ]
  },
  {
   "cell_type": "code",
   "execution_count": null,
   "id": "1d294f30",
   "metadata": {},
   "outputs": [],
   "source": [
    "import pandas as pd\n",
    "import matplotlib.pyplot as plt\n",
    "%matplotlib inline\n",
    "from sklearn.datasets import load_iris\n",
    "iris = load_iris()"
   ]
  },
  {
   "cell_type": "code",
   "execution_count": null,
   "id": "465b4a90",
   "metadata": {},
   "outputs": [],
   "source": [
    "dir(iris)"
   ]
  },
  {
   "cell_type": "code",
   "execution_count": null,
   "id": "6e1ad2f9",
   "metadata": {},
   "outputs": [],
   "source": [
    "iris.feature_names"
   ]
  },
  {
   "cell_type": "code",
   "execution_count": null,
   "id": "2e04e652",
   "metadata": {},
   "outputs": [],
   "source": [
    "iris_df = pd.DataFrame(iris.data,columns=iris.feature_names)"
   ]
  },
  {
   "cell_type": "code",
   "execution_count": null,
   "id": "76640981",
   "metadata": {},
   "outputs": [],
   "source": [
    "iris_df.head()"
   ]
  },
  {
   "cell_type": "code",
   "execution_count": null,
   "id": "a733fb90",
   "metadata": {},
   "outputs": [],
   "source": [
    "iris_df['target'] = iris.target"
   ]
  },
  {
   "cell_type": "code",
   "execution_count": null,
   "id": "da13bf86",
   "metadata": {},
   "outputs": [],
   "source": [
    "iris_df.head()"
   ]
  },
  {
   "cell_type": "code",
   "execution_count": null,
   "id": "42d40888",
   "metadata": {},
   "outputs": [],
   "source": [
    "iris_df[iris_df.target==1].head()"
   ]
  },
  {
   "cell_type": "code",
   "execution_count": null,
   "id": "bacde4fb",
   "metadata": {},
   "outputs": [],
   "source": [
    "#Create a column with flower name using target value if target value is 0,1,2 than it is vetosa,versicolor,verginica\n",
    "iris_df['flower_name'] = iris_df.target.apply(lambda x : iris.target_names[x])\n",
    "iris_df.tail()"
   ]
  },
  {
   "cell_type": "code",
   "execution_count": null,
   "id": "9e6fd002",
   "metadata": {},
   "outputs": [],
   "source": [
    "df0 = iris_df[iris_df.target==0]\n",
    "df1 = iris_df[iris_df.target==1]\n",
    "df2 = iris_df[iris_df.target==2]"
   ]
  },
  {
   "cell_type": "markdown",
   "id": "479722a6",
   "metadata": {},
   "source": [
    "# Make a scatter plot of all these dataframes"
   ]
  },
  {
   "cell_type": "code",
   "execution_count": null,
   "id": "6ac2067e",
   "metadata": {},
   "outputs": [],
   "source": [
    "plt.scatter(df0['sepal length (cm)'],df0['sepal width (cm)'],color='green',marker='+')\n",
    "plt.scatter(df1['sepal length (cm)'],df1['sepal width (cm)'],color='blue',marker='*')\n",
    "plt.scatter(df2['sepal length (cm)'],df2['sepal width (cm)'],color='red',marker=\".\")\n",
    "plt.show()\n"
   ]
  },
  {
   "cell_type": "code",
   "execution_count": null,
   "id": "8ace3a3d",
   "metadata": {},
   "outputs": [],
   "source": [
    "from sklearn.model_selection import train_test_split"
   ]
  },
  {
   "cell_type": "code",
   "execution_count": null,
   "id": "c8655c52",
   "metadata": {},
   "outputs": [],
   "source": [
    "x = iris_df.drop(['target','flower_name'],axis='columns')"
   ]
  },
  {
   "cell_type": "code",
   "execution_count": null,
   "id": "03d62734",
   "metadata": {},
   "outputs": [],
   "source": [
    "y = iris_df['target']"
   ]
  },
  {
   "cell_type": "code",
   "execution_count": null,
   "id": "be493751",
   "metadata": {},
   "outputs": [],
   "source": [
    "x_train,x_test,y_train,y_test = train_test_split(x,y,test_size=0.2,random_state=10)"
   ]
  },
  {
   "cell_type": "code",
   "execution_count": null,
   "id": "5631e63f",
   "metadata": {},
   "outputs": [],
   "source": [
    "len(x_train)"
   ]
  },
  {
   "cell_type": "code",
   "execution_count": null,
   "id": "0f947c7b",
   "metadata": {},
   "outputs": [],
   "source": [
    "from sklearn.svm import SVC\n",
    "model = SVC()"
   ]
  },
  {
   "cell_type": "code",
   "execution_count": null,
   "id": "8ef84029",
   "metadata": {},
   "outputs": [],
   "source": [
    "model.fit(x_train,y_train)\n",
    "y_predict = model.predict(x_test)"
   ]
  },
  {
   "cell_type": "code",
   "execution_count": null,
   "id": "ce3fe8b0",
   "metadata": {},
   "outputs": [],
   "source": [
    "model.score(x_test,y_test)"
   ]
  },
  {
   "cell_type": "markdown",
   "id": "c74f26d7",
   "metadata": {},
   "source": [
    "# Using Suppport Vector Machine and Diabetes dataset for training datset"
   ]
  },
  {
   "cell_type": "code",
   "execution_count": null,
   "id": "298163bf",
   "metadata": {},
   "outputs": [],
   "source": [
    "import pandas as pd\n",
    "import numpy as np\n",
    "import matplotlib.pyplot as plt\n"
   ]
  },
  {
   "cell_type": "code",
   "execution_count": null,
   "id": "c5d9f4d6",
   "metadata": {},
   "outputs": [],
   "source": [
    "from sklearn.datasets import load_diabetes"
   ]
  },
  {
   "cell_type": "code",
   "execution_count": null,
   "id": "94131244",
   "metadata": {},
   "outputs": [],
   "source": [
    "df = load_diabetes()"
   ]
  },
  {
   "cell_type": "code",
   "execution_count": null,
   "id": "2c7ec893",
   "metadata": {},
   "outputs": [],
   "source": [
    "dir(df)"
   ]
  },
  {
   "cell_type": "code",
   "execution_count": null,
   "id": "c942d86e",
   "metadata": {},
   "outputs": [],
   "source": [
    "df.feature_names"
   ]
  },
  {
   "cell_type": "code",
   "execution_count": null,
   "id": "c4b91f3b",
   "metadata": {},
   "outputs": [],
   "source": [
    "diabetes_df = pd.DataFrame(df.data,columns=df.feature_names)\n",
    "diabetes_df.head()"
   ]
  },
  {
   "cell_type": "code",
   "execution_count": null,
   "id": "95c374cc",
   "metadata": {},
   "outputs": [],
   "source": [
    "x = df.data\n",
    "y = df.target"
   ]
  },
  {
   "cell_type": "code",
   "execution_count": null,
   "id": "45c51603",
   "metadata": {},
   "outputs": [],
   "source": [
    "print(len(x))\n",
    "print(len(y))"
   ]
  },
  {
   "cell_type": "code",
   "execution_count": null,
   "id": "b4449451",
   "metadata": {},
   "outputs": [],
   "source": [
    "from sklearn.svm import SVC"
   ]
  },
  {
   "cell_type": "code",
   "execution_count": null,
   "id": "6fd773b9",
   "metadata": {},
   "outputs": [],
   "source": [
    "model = SVC()\n",
    "model"
   ]
  },
  {
   "cell_type": "code",
   "execution_count": null,
   "id": "b83b9c30",
   "metadata": {},
   "outputs": [],
   "source": [
    "from sklearn.model_selection import train_test_split"
   ]
  },
  {
   "cell_type": "code",
   "execution_count": null,
   "id": "2a960d3f",
   "metadata": {},
   "outputs": [],
   "source": [
    "x_train,x_test,y_train,y_test = train_test_split(x,y,test_size=0.4,random_state=42)"
   ]
  },
  {
   "cell_type": "code",
   "execution_count": null,
   "id": "c18cb6a3",
   "metadata": {},
   "outputs": [],
   "source": [
    "print(len(x_train))\n",
    "print(len(y_train))"
   ]
  },
  {
   "cell_type": "code",
   "execution_count": null,
   "id": "1aa2d899",
   "metadata": {},
   "outputs": [],
   "source": [
    "model.fit(x_train,y_train)"
   ]
  },
  {
   "cell_type": "code",
   "execution_count": null,
   "id": "d4ef530f",
   "metadata": {},
   "outputs": [],
   "source": [
    "y_pred = model.predict(x_test)"
   ]
  },
  {
   "cell_type": "code",
   "execution_count": null,
   "id": "4cd82a21",
   "metadata": {},
   "outputs": [],
   "source": [
    "model.score(x_train,y_train)"
   ]
  },
  {
   "cell_type": "code",
   "execution_count": null,
   "id": "dbdde164",
   "metadata": {},
   "outputs": [],
   "source": [
    "from sklearn.metrics import r2_score\n",
    "r2 = r2_score(y_test,y_pred)\n",
    "r2"
   ]
  }
 ],
 "metadata": {
  "kernelspec": {
   "display_name": "Python 3 (ipykernel)",
   "language": "python",
   "name": "python3"
  },
  "language_info": {
   "codemirror_mode": {
    "name": "ipython",
    "version": 3
   },
   "file_extension": ".py",
   "mimetype": "text/x-python",
   "name": "python",
   "nbconvert_exporter": "python",
   "pygments_lexer": "ipython3",
   "version": "3.10.9"
  }
 },
 "nbformat": 4,
 "nbformat_minor": 5
}
