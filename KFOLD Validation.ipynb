{
 "cells": [
  {
   "cell_type": "markdown",
   "id": "cd091cf3",
   "metadata": {},
   "source": [
    "# Kfold cross validation in machine learning"
   ]
  },
  {
   "cell_type": "code",
   "execution_count": null,
   "id": "ccc9f15e",
   "metadata": {},
   "outputs": [],
   "source": [
    "\"\"\"\n",
    "In kfold cross validation method if we have 5 sample than it divides the data into fold than \n",
    "in first step---->if 2-5 folds are used for trainig and 1st is used for testting\n",
    "in 2nd step=------> if 1 and 3-5 are used for traing and 2nd is used for testing and repeat the process till last\n",
    "\"\"\""
   ]
  },
  {
   "cell_type": "code",
   "execution_count": null,
   "id": "e7907350",
   "metadata": {},
   "outputs": [],
   "source": [
    "import matplotlib.pyplot as plt\n",
    "import numpy as np\n",
    "import pandas as pd\n",
    "from sklearn.linear_model import LogisticRegression\n",
    "from sklearn.svm import SVC\n",
    "from sklearn.ensemble import RandomForestClassifier\n",
    "from sklearn.model_selection import train_test_split\n",
    "from sklearn.datasets import load_digits\n",
    "digits  = load_digits()\n",
    "import warnings\n",
    "warnings.filterwarnings(\"ignore\")"
   ]
  },
  {
   "cell_type": "code",
   "execution_count": null,
   "id": "024f5f37",
   "metadata": {},
   "outputs": [],
   "source": [
    "x_train,x_test,y_train,y_test = train_test_split(digits.data,digits.target,test_size=0.3)"
   ]
  },
  {
   "cell_type": "code",
   "execution_count": null,
   "id": "018dfa71",
   "metadata": {},
   "outputs": [],
   "source": [
    "#By using Logistic Regression\n",
    "log_reg = LogisticRegression()\n",
    "log_reg.fit(x_train,y_train)\n",
    "log_reg.score(x_test,y_test)"
   ]
  },
  {
   "cell_type": "code",
   "execution_count": null,
   "id": "a2a02c9f",
   "metadata": {},
   "outputs": [],
   "source": [
    "#By using space vector machine\n",
    "svm = SVC()\n",
    "svm.fit(x_train,y_train)\n",
    "svm.score(x_test,y_test)"
   ]
  },
  {
   "cell_type": "code",
   "execution_count": null,
   "id": "88fccacb",
   "metadata": {},
   "outputs": [],
   "source": [
    "#BY using random foresst classifier\n",
    "RFC = RandomForestClassifier()\n",
    "RFC.fit(x_train,y_train)\n",
    "RFC.score(x_test,y_test)"
   ]
  },
  {
   "cell_type": "code",
   "execution_count": null,
   "id": "5eb68a68",
   "metadata": {},
   "outputs": [],
   "source": [
    "#Using kfold validation method\n",
    "from sklearn.model_selection import KFold\n",
    "kf = KFold(n_splits=3)#we have to give number of folds-->how much folds we want for testing and training\n",
    "kf"
   ]
  },
  {
   "cell_type": "code",
   "execution_count": null,
   "id": "9690f9d8",
   "metadata": {},
   "outputs": [],
   "source": [
    "#this cell code is only for understanding--->How kFold works\n",
    "for train_index,test_index in kf.split([0,1,2,3,4,5,6,7,8]):\n",
    "    print(train_index,test_index)"
   ]
  },
  {
   "cell_type": "code",
   "execution_count": null,
   "id": "3d90d079",
   "metadata": {},
   "outputs": [],
   "source": [
    "def get_score(model,x_train,x_test,y_train,y_test):\n",
    "    model.fit(x_train,y_train)\n",
    "    return model.score(x_test,y_test)"
   ]
  },
  {
   "cell_type": "code",
   "execution_count": null,
   "id": "0c421be8",
   "metadata": {},
   "outputs": [],
   "source": [
    "#kflod using Logistic regression\n",
    "get_score(LogisticRegression(),x_train,x_test,y_train,y_test)"
   ]
  },
  {
   "cell_type": "code",
   "execution_count": null,
   "id": "5a4a24e5",
   "metadata": {},
   "outputs": [],
   "source": [
    "#kflod using SVM machine\n",
    "get_score(SVC(),x_train,x_test,y_train,y_test)"
   ]
  },
  {
   "cell_type": "code",
   "execution_count": null,
   "id": "eab9c3b5",
   "metadata": {},
   "outputs": [],
   "source": [
    "#kflod using random forest classifier\n",
    "get_score(RandomForestClassifier(),x_train,x_test,y_train,y_test)"
   ]
  },
  {
   "cell_type": "code",
   "execution_count": null,
   "id": "50bffdea",
   "metadata": {},
   "outputs": [],
   "source": [
    "from sklearn.model_selection import StratifiedKFold\n",
    "folds = StratifiedKFold(n_splits=3)\n",
    "folds\n",
    "#We use stratifiedKFold is used where datasset is imbalance"
   ]
  },
  {
   "cell_type": "code",
   "execution_count": null,
   "id": "2b78369b",
   "metadata": {},
   "outputs": [],
   "source": [
    "# log_reg_Array = []\n",
    "# SVM_Array = []\n",
    "# RFC_Array = []\n",
    "\n",
    "for train_index,test_index in kf.split(digits.data):\n",
    "    x_train,x_test,y_train,y_test = digits.data[train_index],digits.data[test_index],\\\n",
    "                                    digits.target[train_index],digits.target[test_index]\n",
    "    print(get_score(LogisticRegression(),x_train,x_test,y_train,y_test))\n",
    "    print(get_score(SVC(),x_train,x_test,y_train,y_test))\n",
    "    print(get_score(RandomForestClassifier(n_estimators=40),x_train,x_test,y_train,y_test))\n",
    "#     print(\"\\n--------------------------------------\\n\")\n",
    "#     log_reg_Array.append(get_score(LogisticRegression(),x_train,x_test,y_train,y_test))\n",
    "#     SVM_Array.append(get_score(SVC(),x_train,x_test,y_train,y_test))\n",
    "#     RFC_Array.append(get_score(RandomForestClassifier(n_estimators=40),x_train,x_test,y_train,y_test))\n",
    "    print(\"\\n--------------------------------------\\n\")"
   ]
  },
  {
   "cell_type": "code",
   "execution_count": null,
   "id": "4e5ed78a",
   "metadata": {},
   "outputs": [],
   "source": [
    "# print(log_reg_Array)\n",
    "# print(SVM_Array)\n",
    "# print(RFC_Array)"
   ]
  },
  {
   "cell_type": "code",
   "execution_count": null,
   "id": "5d1dac8c",
   "metadata": {},
   "outputs": [],
   "source": [
    "from sklearn.model_selection import cross_val_score"
   ]
  },
  {
   "cell_type": "code",
   "execution_count": null,
   "id": "df138c2f",
   "metadata": {},
   "outputs": [],
   "source": [
    "cross_val_score(LogisticRegression(),digits.data,digits.target)"
   ]
  },
  {
   "cell_type": "code",
   "execution_count": null,
   "id": "bf6e0485",
   "metadata": {},
   "outputs": [],
   "source": [
    "cross_val_score(SVC(),digits.data,digits.target)"
   ]
  },
  {
   "cell_type": "code",
   "execution_count": null,
   "id": "814e2aac",
   "metadata": {},
   "outputs": [],
   "source": [
    "cross_val_score(RandomForestClassifier(),digits.data,digits.target)"
   ]
  },
  {
   "cell_type": "code",
   "execution_count": null,
   "id": "0a965d44",
   "metadata": {},
   "outputs": [],
   "source": []
  }
 ],
 "metadata": {
  "kernelspec": {
   "display_name": "Python 3 (ipykernel)",
   "language": "python",
   "name": "python3"
  },
  "language_info": {
   "codemirror_mode": {
    "name": "ipython",
    "version": 3
   },
   "file_extension": ".py",
   "mimetype": "text/x-python",
   "name": "python",
   "nbconvert_exporter": "python",
   "pygments_lexer": "ipython3",
   "version": "3.10.9"
  }
 },
 "nbformat": 4,
 "nbformat_minor": 5
}
